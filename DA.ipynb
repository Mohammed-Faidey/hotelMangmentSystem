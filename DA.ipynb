{
  "nbformat": 4,
  "nbformat_minor": 0,
  "metadata": {
    "colab": {
      "name": "DA.ipynb",
      "provenance": [],
      "collapsed_sections": [],
      "authorship_tag": "ABX9TyM1LGvPEr1l0YEy8xRagb88",
      "include_colab_link": true
    },
    "kernelspec": {
      "name": "python3",
      "display_name": "Python 3"
    },
    "language_info": {
      "name": "python"
    }
  },
  "cells": [
    {
      "cell_type": "markdown",
      "metadata": {
        "id": "view-in-github",
        "colab_type": "text"
      },
      "source": [
        "<a href=\"https://colab.research.google.com/github/Mohammed-Faidey/hotelMangmentSystem/blob/master/DA.ipynb\" target=\"_parent\"><img src=\"https://colab.research.google.com/assets/colab-badge.svg\" alt=\"Open In Colab\"/></a>"
      ]
    },
    {
      "cell_type": "code",
      "execution_count": null,
      "metadata": {
        "colab": {
          "base_uri": "https://localhost:8080/"
        },
        "id": "kfF-tVeV89s7",
        "outputId": "e1a9918c-87ee-4607-96e5-f96a0ff8bef9"
      },
      "outputs": [
        {
          "output_type": "stream",
          "name": "stdout",
          "text": [
            "Mounted at /content/gdrive\n"
          ]
        }
      ],
      "source": [
        "from google.colab import drive\n",
        "drive.mount(\"/content/gdrive\", force_remount=True)"
      ]
    },
    {
      "cell_type": "code",
      "source": [
        "#!pip install kaggle"
      ],
      "metadata": {
        "id": "PDIyrwzh9Aft"
      },
      "execution_count": null,
      "outputs": []
    },
    {
      "cell_type": "code",
      "source": [
        "#%cd /content/gdrive/MyDrive/ & %mkdir DataSets & %cd /content/gdrive/MyDrive/DataSets/ %mkdir DA_NFT %cd /content/gdrive/MyDrive/DataSets/DA_NFT/"
      ],
      "metadata": {
        "id": "qpgl7eik9SM4"
      },
      "execution_count": null,
      "outputs": []
    },
    {
      "cell_type": "code",
      "source": [
        "%pwd"
      ],
      "metadata": {
        "colab": {
          "base_uri": "https://localhost:8080/",
          "height": 36
        },
        "id": "l4SJwrKP9b8l",
        "outputId": "bfee3131-d584-4d0b-c8eb-d37ed3fea41f"
      },
      "execution_count": null,
      "outputs": [
        {
          "output_type": "execute_result",
          "data": {
            "text/plain": [
              "'/content/gdrive/MyDrive/DataSets/DA_NFT'"
            ],
            "application/vnd.google.colaboratory.intrinsic+json": {
              "type": "string"
            }
          },
          "metadata": {},
          "execution_count": 16
        }
      ]
    },
    {
      "cell_type": "code",
      "source": [
        "#import os\n",
        "#os.environ['KAGGLE_CONFIG_DIR'] = \"/content/gdrive/MyDrive/DataSets/DA_NFT/\""
      ],
      "metadata": {
        "id": "8HGTrqF9-GWg"
      },
      "execution_count": null,
      "outputs": []
    },
    {
      "cell_type": "code",
      "source": [
        "#!kaggle datasets download -d vepnar/nft-art-dataset"
      ],
      "metadata": {
        "colab": {
          "base_uri": "https://localhost:8080/"
        },
        "id": "3j6QiJfI-VDT",
        "outputId": "a903afe9-5686-4ae0-85c9-a08ed5b0529d"
      },
      "execution_count": null,
      "outputs": [
        {
          "output_type": "stream",
          "name": "stdout",
          "text": [
            "Downloading nft-art-dataset.zip to /content/gdrive/MyDrive/DataSets/DA_NFT\n",
            "100% 30.9G/31.0G [06:46<00:00, 79.1MB/s]\n",
            "100% 31.0G/31.0G [06:46<00:00, 81.7MB/s]\n"
          ]
        }
      ]
    },
    {
      "cell_type": "code",
      "source": [
        "#!unzip -q nft-art-dataset.zip -d ."
      ],
      "metadata": {
        "id": "3LtwW-8PGAXR"
      },
      "execution_count": null,
      "outputs": []
    },
    {
      "cell_type": "code",
      "source": [
        "DDPATH = \"/content/gdrive/MyDrive/DataSets/DA_NFT/\" # Absoulte DATA Drive Path"
      ],
      "metadata": {
        "id": "xdcZx2bJ_W3G"
      },
      "execution_count": 40,
      "outputs": []
    },
    {
      "cell_type": "code",
      "source": [
        "%ls"
      ],
      "metadata": {
        "colab": {
          "base_uri": "https://localhost:8080/"
        },
        "id": "NObcCzw4BXOJ",
        "outputId": "07e96999-dbc3-4257-8b8f-e185c6d165c0"
      },
      "execution_count": null,
      "outputs": [
        {
          "output_type": "stream",
          "name": "stdout",
          "text": [
            "kaggle.json  nft-art-dataset.zip\n"
          ]
        }
      ]
    },
    {
      "cell_type": "code",
      "source": [
        "import numpy as np\n",
        "import pandas as pd \n",
        "import os"
      ],
      "metadata": {
        "id": "DAO8fzp2Ba2F"
      },
      "execution_count": 37,
      "outputs": []
    },
    {
      "cell_type": "code",
      "source": [
        "data = pd.read_csv(DDPATH+\"dataset/dataset.csv\")"
      ],
      "metadata": {
        "id": "N5r-womaBfZx"
      },
      "execution_count": 41,
      "outputs": []
    },
    {
      "cell_type": "code",
      "source": [
        "data.head()"
      ],
      "metadata": {
        "colab": {
          "base_uri": "https://localhost:8080/",
          "height": 339
        },
        "id": "rNPzk_zVGWkY",
        "outputId": "76362d22-2977-4694-bd92-e26527f71f91"
      },
      "execution_count": 42,
      "outputs": [
        {
          "output_type": "execute_result",
          "data": {
            "text/plain": [
              "                title                  name         creator  \\\n",
              "0     30 min Drawings            Giant Frog      kristyglas   \n",
              "1  Experimental Video          Biospecimens  juliakponsford   \n",
              "2            Sexy Art             long legs         badsexy   \n",
              "3         Dream World  A Guide in my Dreams         yoslehz   \n",
              "4         Dream World       Silent Observer         yoslehz   \n",
              "\n",
              "                                       art_series  price     symbol   type  \\\n",
              "0           kristyglas_30-min-drawings_giant-frog   50.0  SWAP.HIVE  PHOTO   \n",
              "1  juliakponsford_experimental-video_biospecimens  500.0  SWAP.HIVE  VIDEO   \n",
              "2                      badsexy_sexy-art_long-legs   10.0  SWAP.HIVE  PHOTO   \n",
              "3        yoslehz_dream-world_a-guide-in-my-dreams   20.0  SWAP.HIVE  PHOTO   \n",
              "4             yoslehz_dream-world_silent-observer   20.0  SWAP.HIVE    GIF   \n",
              "\n",
              "   likes   nsfw  tokens  year  rights  royalty  \\\n",
              "0      2  False      30  2020       1        0   \n",
              "1      0  False       1  2020       1        0   \n",
              "2      0   True       2  2021       1        0   \n",
              "3      1  False       2  2020       1        0   \n",
              "4      0  False       2  2020       1        0   \n",
              "\n",
              "                                              cid  \\\n",
              "0  QmegjZDN2gyD9A6cG4efj8DwbLLGTW6isDGadNC2yVJHfH   \n",
              "1  QmeN4KuTQwHPWvGDhiopNJziqmf1feGeabDD4Gk7z9DgUL   \n",
              "2  QmaifAjZTJd8jTxNrwSoGWmFpbPYcszMF4ZcZDBwpRR4v4   \n",
              "3  QmUTicJApSyByFb7sgsNa6cz8MG5RKsHvGLP61gxSF3JsN   \n",
              "4  Qmb8WbXXdorG52sgY4mSyYUjevE65SGa2vhSxdXstfinz1   \n",
              "\n",
              "                                                path  \n",
              "0  ./dataset/image/QmegjZDN2gyD9A6cG4efj8DwbLLGTW...  \n",
              "1  ./dataset/video/QmeN4KuTQwHPWvGDhiopNJziqmf1fe...  \n",
              "2  ./dataset/image/QmaifAjZTJd8jTxNrwSoGWmFpbPYcs...  \n",
              "3  ./dataset/image/QmUTicJApSyByFb7sgsNa6cz8MG5RK...  \n",
              "4  ./dataset/gif/Qmb8WbXXdorG52sgY4mSyYUjevE65SGa...  "
            ],
            "text/html": [
              "\n",
              "  <div id=\"df-e49370f7-3c98-4229-9af5-b1bc9752d65d\">\n",
              "    <div class=\"colab-df-container\">\n",
              "      <div>\n",
              "<style scoped>\n",
              "    .dataframe tbody tr th:only-of-type {\n",
              "        vertical-align: middle;\n",
              "    }\n",
              "\n",
              "    .dataframe tbody tr th {\n",
              "        vertical-align: top;\n",
              "    }\n",
              "\n",
              "    .dataframe thead th {\n",
              "        text-align: right;\n",
              "    }\n",
              "</style>\n",
              "<table border=\"1\" class=\"dataframe\">\n",
              "  <thead>\n",
              "    <tr style=\"text-align: right;\">\n",
              "      <th></th>\n",
              "      <th>title</th>\n",
              "      <th>name</th>\n",
              "      <th>creator</th>\n",
              "      <th>art_series</th>\n",
              "      <th>price</th>\n",
              "      <th>symbol</th>\n",
              "      <th>type</th>\n",
              "      <th>likes</th>\n",
              "      <th>nsfw</th>\n",
              "      <th>tokens</th>\n",
              "      <th>year</th>\n",
              "      <th>rights</th>\n",
              "      <th>royalty</th>\n",
              "      <th>cid</th>\n",
              "      <th>path</th>\n",
              "    </tr>\n",
              "  </thead>\n",
              "  <tbody>\n",
              "    <tr>\n",
              "      <th>0</th>\n",
              "      <td>30 min Drawings</td>\n",
              "      <td>Giant Frog</td>\n",
              "      <td>kristyglas</td>\n",
              "      <td>kristyglas_30-min-drawings_giant-frog</td>\n",
              "      <td>50.0</td>\n",
              "      <td>SWAP.HIVE</td>\n",
              "      <td>PHOTO</td>\n",
              "      <td>2</td>\n",
              "      <td>False</td>\n",
              "      <td>30</td>\n",
              "      <td>2020</td>\n",
              "      <td>1</td>\n",
              "      <td>0</td>\n",
              "      <td>QmegjZDN2gyD9A6cG4efj8DwbLLGTW6isDGadNC2yVJHfH</td>\n",
              "      <td>./dataset/image/QmegjZDN2gyD9A6cG4efj8DwbLLGTW...</td>\n",
              "    </tr>\n",
              "    <tr>\n",
              "      <th>1</th>\n",
              "      <td>Experimental Video</td>\n",
              "      <td>Biospecimens</td>\n",
              "      <td>juliakponsford</td>\n",
              "      <td>juliakponsford_experimental-video_biospecimens</td>\n",
              "      <td>500.0</td>\n",
              "      <td>SWAP.HIVE</td>\n",
              "      <td>VIDEO</td>\n",
              "      <td>0</td>\n",
              "      <td>False</td>\n",
              "      <td>1</td>\n",
              "      <td>2020</td>\n",
              "      <td>1</td>\n",
              "      <td>0</td>\n",
              "      <td>QmeN4KuTQwHPWvGDhiopNJziqmf1feGeabDD4Gk7z9DgUL</td>\n",
              "      <td>./dataset/video/QmeN4KuTQwHPWvGDhiopNJziqmf1fe...</td>\n",
              "    </tr>\n",
              "    <tr>\n",
              "      <th>2</th>\n",
              "      <td>Sexy Art</td>\n",
              "      <td>long legs</td>\n",
              "      <td>badsexy</td>\n",
              "      <td>badsexy_sexy-art_long-legs</td>\n",
              "      <td>10.0</td>\n",
              "      <td>SWAP.HIVE</td>\n",
              "      <td>PHOTO</td>\n",
              "      <td>0</td>\n",
              "      <td>True</td>\n",
              "      <td>2</td>\n",
              "      <td>2021</td>\n",
              "      <td>1</td>\n",
              "      <td>0</td>\n",
              "      <td>QmaifAjZTJd8jTxNrwSoGWmFpbPYcszMF4ZcZDBwpRR4v4</td>\n",
              "      <td>./dataset/image/QmaifAjZTJd8jTxNrwSoGWmFpbPYcs...</td>\n",
              "    </tr>\n",
              "    <tr>\n",
              "      <th>3</th>\n",
              "      <td>Dream World</td>\n",
              "      <td>A Guide in my Dreams</td>\n",
              "      <td>yoslehz</td>\n",
              "      <td>yoslehz_dream-world_a-guide-in-my-dreams</td>\n",
              "      <td>20.0</td>\n",
              "      <td>SWAP.HIVE</td>\n",
              "      <td>PHOTO</td>\n",
              "      <td>1</td>\n",
              "      <td>False</td>\n",
              "      <td>2</td>\n",
              "      <td>2020</td>\n",
              "      <td>1</td>\n",
              "      <td>0</td>\n",
              "      <td>QmUTicJApSyByFb7sgsNa6cz8MG5RKsHvGLP61gxSF3JsN</td>\n",
              "      <td>./dataset/image/QmUTicJApSyByFb7sgsNa6cz8MG5RK...</td>\n",
              "    </tr>\n",
              "    <tr>\n",
              "      <th>4</th>\n",
              "      <td>Dream World</td>\n",
              "      <td>Silent Observer</td>\n",
              "      <td>yoslehz</td>\n",
              "      <td>yoslehz_dream-world_silent-observer</td>\n",
              "      <td>20.0</td>\n",
              "      <td>SWAP.HIVE</td>\n",
              "      <td>GIF</td>\n",
              "      <td>0</td>\n",
              "      <td>False</td>\n",
              "      <td>2</td>\n",
              "      <td>2020</td>\n",
              "      <td>1</td>\n",
              "      <td>0</td>\n",
              "      <td>Qmb8WbXXdorG52sgY4mSyYUjevE65SGa2vhSxdXstfinz1</td>\n",
              "      <td>./dataset/gif/Qmb8WbXXdorG52sgY4mSyYUjevE65SGa...</td>\n",
              "    </tr>\n",
              "  </tbody>\n",
              "</table>\n",
              "</div>\n",
              "      <button class=\"colab-df-convert\" onclick=\"convertToInteractive('df-e49370f7-3c98-4229-9af5-b1bc9752d65d')\"\n",
              "              title=\"Convert this dataframe to an interactive table.\"\n",
              "              style=\"display:none;\">\n",
              "        \n",
              "  <svg xmlns=\"http://www.w3.org/2000/svg\" height=\"24px\"viewBox=\"0 0 24 24\"\n",
              "       width=\"24px\">\n",
              "    <path d=\"M0 0h24v24H0V0z\" fill=\"none\"/>\n",
              "    <path d=\"M18.56 5.44l.94 2.06.94-2.06 2.06-.94-2.06-.94-.94-2.06-.94 2.06-2.06.94zm-11 1L8.5 8.5l.94-2.06 2.06-.94-2.06-.94L8.5 2.5l-.94 2.06-2.06.94zm10 10l.94 2.06.94-2.06 2.06-.94-2.06-.94-.94-2.06-.94 2.06-2.06.94z\"/><path d=\"M17.41 7.96l-1.37-1.37c-.4-.4-.92-.59-1.43-.59-.52 0-1.04.2-1.43.59L10.3 9.45l-7.72 7.72c-.78.78-.78 2.05 0 2.83L4 21.41c.39.39.9.59 1.41.59.51 0 1.02-.2 1.41-.59l7.78-7.78 2.81-2.81c.8-.78.8-2.07 0-2.86zM5.41 20L4 18.59l7.72-7.72 1.47 1.35L5.41 20z\"/>\n",
              "  </svg>\n",
              "      </button>\n",
              "      \n",
              "  <style>\n",
              "    .colab-df-container {\n",
              "      display:flex;\n",
              "      flex-wrap:wrap;\n",
              "      gap: 12px;\n",
              "    }\n",
              "\n",
              "    .colab-df-convert {\n",
              "      background-color: #E8F0FE;\n",
              "      border: none;\n",
              "      border-radius: 50%;\n",
              "      cursor: pointer;\n",
              "      display: none;\n",
              "      fill: #1967D2;\n",
              "      height: 32px;\n",
              "      padding: 0 0 0 0;\n",
              "      width: 32px;\n",
              "    }\n",
              "\n",
              "    .colab-df-convert:hover {\n",
              "      background-color: #E2EBFA;\n",
              "      box-shadow: 0px 1px 2px rgba(60, 64, 67, 0.3), 0px 1px 3px 1px rgba(60, 64, 67, 0.15);\n",
              "      fill: #174EA6;\n",
              "    }\n",
              "\n",
              "    [theme=dark] .colab-df-convert {\n",
              "      background-color: #3B4455;\n",
              "      fill: #D2E3FC;\n",
              "    }\n",
              "\n",
              "    [theme=dark] .colab-df-convert:hover {\n",
              "      background-color: #434B5C;\n",
              "      box-shadow: 0px 1px 3px 1px rgba(0, 0, 0, 0.15);\n",
              "      filter: drop-shadow(0px 1px 2px rgba(0, 0, 0, 0.3));\n",
              "      fill: #FFFFFF;\n",
              "    }\n",
              "  </style>\n",
              "\n",
              "      <script>\n",
              "        const buttonEl =\n",
              "          document.querySelector('#df-e49370f7-3c98-4229-9af5-b1bc9752d65d button.colab-df-convert');\n",
              "        buttonEl.style.display =\n",
              "          google.colab.kernel.accessAllowed ? 'block' : 'none';\n",
              "\n",
              "        async function convertToInteractive(key) {\n",
              "          const element = document.querySelector('#df-e49370f7-3c98-4229-9af5-b1bc9752d65d');\n",
              "          const dataTable =\n",
              "            await google.colab.kernel.invokeFunction('convertToInteractive',\n",
              "                                                     [key], {});\n",
              "          if (!dataTable) return;\n",
              "\n",
              "          const docLinkHtml = 'Like what you see? Visit the ' +\n",
              "            '<a target=\"_blank\" href=https://colab.research.google.com/notebooks/data_table.ipynb>data table notebook</a>'\n",
              "            + ' to learn more about interactive tables.';\n",
              "          element.innerHTML = '';\n",
              "          dataTable['output_type'] = 'display_data';\n",
              "          await google.colab.output.renderOutput(dataTable, element);\n",
              "          const docLink = document.createElement('div');\n",
              "          docLink.innerHTML = docLinkHtml;\n",
              "          element.appendChild(docLink);\n",
              "        }\n",
              "      </script>\n",
              "    </div>\n",
              "  </div>\n",
              "  "
            ]
          },
          "metadata": {},
          "execution_count": 42
        }
      ]
    },
    {
      "cell_type": "code",
      "source": [
        "data['creator'].unique()"
      ],
      "metadata": {
        "id": "bztO1k97Gll_"
      },
      "execution_count": null,
      "outputs": []
    },
    {
      "cell_type": "code",
      "source": [
        "top_creators = data['creator'].value_counts().head(5)"
      ],
      "metadata": {
        "id": "04LFeWAxGvL_"
      },
      "execution_count": 48,
      "outputs": []
    },
    {
      "cell_type": "code",
      "source": [
        "top_artists_stats = dict()\n",
        "for i in range(len(top_creators)):\n",
        "    top_artists_stats[top_creators.index[i]] = top_creators.values[i]\n",
        "top_artists_stats"
      ],
      "metadata": {
        "colab": {
          "base_uri": "https://localhost:8080/"
        },
        "id": "f-33RXfCHMP-",
        "outputId": "4984a5b5-6e75-4a23-e81c-855d57e497b1"
      },
      "execution_count": 49,
      "outputs": [
        {
          "output_type": "execute_result",
          "data": {
            "text/plain": [
              "{'artxmike': 99,\n",
              " 'doze': 93,\n",
              " 'elenasteem': 170,\n",
              " 'elgeko': 88,\n",
              " 'richardfyates': 119}"
            ]
          },
          "metadata": {},
          "execution_count": 49
        }
      ]
    },
    {
      "cell_type": "code",
      "source": [
        "top_artists_list = []\n",
        "for a, b in enumerate(top_artists_stats.keys()):\n",
        "    top_artists_list.append(b)\n",
        "    \n",
        "print(top_artists_list)\n",
        "print(len(top_artists_list))"
      ],
      "metadata": {
        "colab": {
          "base_uri": "https://localhost:8080/"
        },
        "id": "fokclfgEHUXM",
        "outputId": "0bfb92ff-fbc3-44a5-e675-2a1e827813dd"
      },
      "execution_count": 50,
      "outputs": [
        {
          "output_type": "stream",
          "name": "stdout",
          "text": [
            "['elenasteem', 'richardfyates', 'artxmike', 'doze', 'elgeko']\n",
            "5\n"
          ]
        }
      ]
    },
    {
      "cell_type": "code",
      "source": [
        "data2= data.copy()"
      ],
      "metadata": {
        "id": "EbMyH0ifHXzJ"
      },
      "execution_count": 51,
      "outputs": []
    },
    {
      "cell_type": "code",
      "source": [
        "data2 = data2[data2['creator'].apply(lambda x : x in top_artists_list)]\n"
      ],
      "metadata": {
        "id": "e2oY47s7HaHZ"
      },
      "execution_count": 52,
      "outputs": []
    },
    {
      "cell_type": "code",
      "source": [
        "print(data2['creator'].unique())\n",
        "print(len(data2['creator'].unique()))"
      ],
      "metadata": {
        "colab": {
          "base_uri": "https://localhost:8080/"
        },
        "id": "_D4-WsvuHbsW",
        "outputId": "6d72d389-6ab0-4cad-ec77-9378b45c67ac"
      },
      "execution_count": 53,
      "outputs": [
        {
          "output_type": "stream",
          "name": "stdout",
          "text": [
            "['elenasteem' 'artxmike' 'richardfyates' 'elgeko' 'doze']\n",
            "5\n"
          ]
        }
      ]
    },
    {
      "cell_type": "code",
      "source": [
        "PHOTO_DATA = data2[data2['type' ]== 'PHOTO']"
      ],
      "metadata": {
        "id": "XD2FUw4ZHd2M"
      },
      "execution_count": 54,
      "outputs": []
    },
    {
      "cell_type": "code",
      "source": [
        "PHOTO_DATA['type'].unique()"
      ],
      "metadata": {
        "colab": {
          "base_uri": "https://localhost:8080/"
        },
        "id": "i1QGb5DMHf2i",
        "outputId": "c3a2e29e-8574-424b-fc86-68d33ff3b4b2"
      },
      "execution_count": 55,
      "outputs": [
        {
          "output_type": "execute_result",
          "data": {
            "text/plain": [
              "array(['PHOTO'], dtype=object)"
            ]
          },
          "metadata": {},
          "execution_count": 55
        }
      ]
    },
    {
      "cell_type": "code",
      "source": [
        "PHOTO_DATA['path'] = PHOTO_DATA['path'].apply(lambda x : x.replace('./', ''))"
      ],
      "metadata": {
        "colab": {
          "base_uri": "https://localhost:8080/"
        },
        "id": "edHaAZ1jHlJp",
        "outputId": "5befa2ce-5095-4338-f342-b1b7b6530aa3"
      },
      "execution_count": 56,
      "outputs": [
        {
          "output_type": "stream",
          "name": "stderr",
          "text": [
            "/usr/local/lib/python3.7/dist-packages/ipykernel_launcher.py:1: SettingWithCopyWarning: \n",
            "A value is trying to be set on a copy of a slice from a DataFrame.\n",
            "Try using .loc[row_indexer,col_indexer] = value instead\n",
            "\n",
            "See the caveats in the documentation: https://pandas.pydata.org/pandas-docs/stable/user_guide/indexing.html#returning-a-view-versus-a-copy\n",
            "  \"\"\"Entry point for launching an IPython kernel.\n"
          ]
        }
      ]
    },
    {
      "cell_type": "code",
      "source": [
        "PHOTO_DATA\n"
      ],
      "metadata": {
        "colab": {
          "base_uri": "https://localhost:8080/",
          "height": 644
        },
        "id": "QTdam1lbHni4",
        "outputId": "dfd3bfe6-c35e-4e4a-bb7f-160bc7b46eb3"
      },
      "execution_count": 58,
      "outputs": [
        {
          "output_type": "execute_result",
          "data": {
            "text/plain": [
              "                                                title  \\\n",
              "37                                          white owl   \n",
              "157                                      Markusha SAI   \n",
              "193                      DeviantArt Fennec Fox Sketch   \n",
              "247                                          4 series   \n",
              "264         Trash for Life (In the Haunted Honeycomb)   \n",
              "...                                               ...   \n",
              "4117                             Psychedelic Rockpool   \n",
              "4119                                        The Vixen   \n",
              "4145                               Transmogrification   \n",
              "4162        Trash for Life (In the Haunted Honeycomb)   \n",
              "4188  fine arts -  high resolution printable artworks   \n",
              "\n",
              "                                            name        creator  \\\n",
              "37                                     white owl     elenasteem   \n",
              "157                                 Markusha SAI     elenasteem   \n",
              "193                 DeviantArt Fennec Fox Sketch     elenasteem   \n",
              "247                                        4 (2)       artxmike   \n",
              "264           Virtually Worthless(*) NFT by RFY\"  richardfyates   \n",
              "...                                          ...            ...   \n",
              "4117                        Psychedelic Rockpool       artxmike   \n",
              "4119                                   The Vixen       artxmike   \n",
              "4145                         Transmogrification1       artxmike   \n",
              "4162  Only The Lonely... (So EXPENSIVE!) by RFY\"  richardfyates   \n",
              "4188        Dirty laundry in the fractal kitchen         elgeko   \n",
              "\n",
              "                                             art_series   price     symbol  \\\n",
              "37                       elenasteem_white-owl_white-owl    50.0  SWAP.HIVE   \n",
              "157                elenasteem_markusha-sai_markusha-sai    50.0  SWAP.HIVE   \n",
              "193   elenasteem_deviantart-fennec-fox-sketch_devian...    30.0  SWAP.HIVE   \n",
              "247                               artxmike_4-series_4-2    10.0  SWAP.HIVE   \n",
              "264   richardfyates_trash-for-life-in-the-haunted-ho...     5.0  SWAP.HIVE   \n",
              "...                                                 ...     ...        ...   \n",
              "4117  artxmike_psychedelic-rockpool_psychedelic-rock...    25.0  SWAP.HIVE   \n",
              "4119                       artxmike_the-vixen_the-vixen    10.0  SWAP.HIVE   \n",
              "4145    artxmike_transmogrification_transmogrification1    40.0  SWAP.HIVE   \n",
              "4162  richardfyates_trash-for-life-in-the-haunted-ho...  1013.0  SWAP.HIVE   \n",
              "4188  elgeko_fine-arts-high-resolution-printable-art...   700.0  SWAP.HIVE   \n",
              "\n",
              "       type  likes   nsfw  tokens  year  rights  royalty  \\\n",
              "37    PHOTO      0  False       2  2020       1        0   \n",
              "157   PHOTO      0  False       2  2020       1        0   \n",
              "193   PHOTO      1  False       2  2020       1        0   \n",
              "247   PHOTO      0  False       4  2021       1        0   \n",
              "264   PHOTO      5  False      53  2020       1        0   \n",
              "...     ...    ...    ...     ...   ...     ...      ...   \n",
              "4117  PHOTO      2  False       5  2019       1        0   \n",
              "4119  PHOTO      0  False       5  2020       1        0   \n",
              "4145  PHOTO      0   True       5  2019       1        0   \n",
              "4162  PHOTO      0  False       1  2020       1        0   \n",
              "4188  PHOTO      0  False       1  2020       1        0   \n",
              "\n",
              "                                                 cid  \\\n",
              "37    QmZ87ZfVxBB3D1myFKzQxrHv9sJf3bKbuZf2M1TWJwjDeL   \n",
              "157   QmeNXdFtSSMfNekMZqtaDTRSy9fE2FPecENFpr9KWC2C5J   \n",
              "193   Qmekz3t3JUSPKZ3myAHDGJXm9JZ8p6cGD54wCDBV78BD6T   \n",
              "247   Qmbhg4Vxzk4MwbYq3oNeTzevhtqWRjkTQf98HdmG4CG6f2   \n",
              "264   QmTqXu6RWYTkKGrvKveVNMhamanRCPNGQDCsQ6wPrgcKfP   \n",
              "...                                              ...   \n",
              "4117  QmUEY6gNjQ3ufuVXW5kUR83DQW9y1EQ3a1UMfkgZ2cNNff   \n",
              "4119  QmQYVhQq4w5xRLLL6p8YbQDsxw3bnpz45hUUXYhRBjP3H4   \n",
              "4145  QmQ9BRvwJyysQDuEqsGNEfcA7na93vYQakzXNimjpSmv29   \n",
              "4162  QmWB76TLLkmV2WJLHTs7P7zwzydmhU5UdutbqaUNUB6gYV   \n",
              "4188  QmNYLy1vRaRYoGRMVmheRgMxPAcrUufoUJHFSe81DmzNB9   \n",
              "\n",
              "                                                   path  \n",
              "37    dataset/image/QmZ87ZfVxBB3D1myFKzQxrHv9sJf3bKb...  \n",
              "157   dataset/image/QmeNXdFtSSMfNekMZqtaDTRSy9fE2FPe...  \n",
              "193   dataset/image/Qmekz3t3JUSPKZ3myAHDGJXm9JZ8p6cG...  \n",
              "247   dataset/image/Qmbhg4Vxzk4MwbYq3oNeTzevhtqWRjkT...  \n",
              "264   dataset/image/QmTqXu6RWYTkKGrvKveVNMhamanRCPNG...  \n",
              "...                                                 ...  \n",
              "4117  dataset/image/QmUEY6gNjQ3ufuVXW5kUR83DQW9y1EQ3...  \n",
              "4119  dataset/image/QmQYVhQq4w5xRLLL6p8YbQDsxw3bnpz4...  \n",
              "4145  dataset/image/QmQ9BRvwJyysQDuEqsGNEfcA7na93vYQ...  \n",
              "4162  dataset/image/QmWB76TLLkmV2WJLHTs7P7zwzydmhU5U...  \n",
              "4188  dataset/image/QmNYLy1vRaRYoGRMVmheRgMxPAcrUufo...  \n",
              "\n",
              "[399 rows x 15 columns]"
            ],
            "text/html": [
              "\n",
              "  <div id=\"df-4d457777-6b71-481e-8540-4d326b425f1c\">\n",
              "    <div class=\"colab-df-container\">\n",
              "      <div>\n",
              "<style scoped>\n",
              "    .dataframe tbody tr th:only-of-type {\n",
              "        vertical-align: middle;\n",
              "    }\n",
              "\n",
              "    .dataframe tbody tr th {\n",
              "        vertical-align: top;\n",
              "    }\n",
              "\n",
              "    .dataframe thead th {\n",
              "        text-align: right;\n",
              "    }\n",
              "</style>\n",
              "<table border=\"1\" class=\"dataframe\">\n",
              "  <thead>\n",
              "    <tr style=\"text-align: right;\">\n",
              "      <th></th>\n",
              "      <th>title</th>\n",
              "      <th>name</th>\n",
              "      <th>creator</th>\n",
              "      <th>art_series</th>\n",
              "      <th>price</th>\n",
              "      <th>symbol</th>\n",
              "      <th>type</th>\n",
              "      <th>likes</th>\n",
              "      <th>nsfw</th>\n",
              "      <th>tokens</th>\n",
              "      <th>year</th>\n",
              "      <th>rights</th>\n",
              "      <th>royalty</th>\n",
              "      <th>cid</th>\n",
              "      <th>path</th>\n",
              "    </tr>\n",
              "  </thead>\n",
              "  <tbody>\n",
              "    <tr>\n",
              "      <th>37</th>\n",
              "      <td>white owl</td>\n",
              "      <td>white owl</td>\n",
              "      <td>elenasteem</td>\n",
              "      <td>elenasteem_white-owl_white-owl</td>\n",
              "      <td>50.0</td>\n",
              "      <td>SWAP.HIVE</td>\n",
              "      <td>PHOTO</td>\n",
              "      <td>0</td>\n",
              "      <td>False</td>\n",
              "      <td>2</td>\n",
              "      <td>2020</td>\n",
              "      <td>1</td>\n",
              "      <td>0</td>\n",
              "      <td>QmZ87ZfVxBB3D1myFKzQxrHv9sJf3bKbuZf2M1TWJwjDeL</td>\n",
              "      <td>dataset/image/QmZ87ZfVxBB3D1myFKzQxrHv9sJf3bKb...</td>\n",
              "    </tr>\n",
              "    <tr>\n",
              "      <th>157</th>\n",
              "      <td>Markusha SAI</td>\n",
              "      <td>Markusha SAI</td>\n",
              "      <td>elenasteem</td>\n",
              "      <td>elenasteem_markusha-sai_markusha-sai</td>\n",
              "      <td>50.0</td>\n",
              "      <td>SWAP.HIVE</td>\n",
              "      <td>PHOTO</td>\n",
              "      <td>0</td>\n",
              "      <td>False</td>\n",
              "      <td>2</td>\n",
              "      <td>2020</td>\n",
              "      <td>1</td>\n",
              "      <td>0</td>\n",
              "      <td>QmeNXdFtSSMfNekMZqtaDTRSy9fE2FPecENFpr9KWC2C5J</td>\n",
              "      <td>dataset/image/QmeNXdFtSSMfNekMZqtaDTRSy9fE2FPe...</td>\n",
              "    </tr>\n",
              "    <tr>\n",
              "      <th>193</th>\n",
              "      <td>DeviantArt Fennec Fox Sketch</td>\n",
              "      <td>DeviantArt Fennec Fox Sketch</td>\n",
              "      <td>elenasteem</td>\n",
              "      <td>elenasteem_deviantart-fennec-fox-sketch_devian...</td>\n",
              "      <td>30.0</td>\n",
              "      <td>SWAP.HIVE</td>\n",
              "      <td>PHOTO</td>\n",
              "      <td>1</td>\n",
              "      <td>False</td>\n",
              "      <td>2</td>\n",
              "      <td>2020</td>\n",
              "      <td>1</td>\n",
              "      <td>0</td>\n",
              "      <td>Qmekz3t3JUSPKZ3myAHDGJXm9JZ8p6cGD54wCDBV78BD6T</td>\n",
              "      <td>dataset/image/Qmekz3t3JUSPKZ3myAHDGJXm9JZ8p6cG...</td>\n",
              "    </tr>\n",
              "    <tr>\n",
              "      <th>247</th>\n",
              "      <td>4 series</td>\n",
              "      <td>4 (2)</td>\n",
              "      <td>artxmike</td>\n",
              "      <td>artxmike_4-series_4-2</td>\n",
              "      <td>10.0</td>\n",
              "      <td>SWAP.HIVE</td>\n",
              "      <td>PHOTO</td>\n",
              "      <td>0</td>\n",
              "      <td>False</td>\n",
              "      <td>4</td>\n",
              "      <td>2021</td>\n",
              "      <td>1</td>\n",
              "      <td>0</td>\n",
              "      <td>Qmbhg4Vxzk4MwbYq3oNeTzevhtqWRjkTQf98HdmG4CG6f2</td>\n",
              "      <td>dataset/image/Qmbhg4Vxzk4MwbYq3oNeTzevhtqWRjkT...</td>\n",
              "    </tr>\n",
              "    <tr>\n",
              "      <th>264</th>\n",
              "      <td>Trash for Life (In the Haunted Honeycomb)</td>\n",
              "      <td>Virtually Worthless(*) NFT by RFY\"</td>\n",
              "      <td>richardfyates</td>\n",
              "      <td>richardfyates_trash-for-life-in-the-haunted-ho...</td>\n",
              "      <td>5.0</td>\n",
              "      <td>SWAP.HIVE</td>\n",
              "      <td>PHOTO</td>\n",
              "      <td>5</td>\n",
              "      <td>False</td>\n",
              "      <td>53</td>\n",
              "      <td>2020</td>\n",
              "      <td>1</td>\n",
              "      <td>0</td>\n",
              "      <td>QmTqXu6RWYTkKGrvKveVNMhamanRCPNGQDCsQ6wPrgcKfP</td>\n",
              "      <td>dataset/image/QmTqXu6RWYTkKGrvKveVNMhamanRCPNG...</td>\n",
              "    </tr>\n",
              "    <tr>\n",
              "      <th>...</th>\n",
              "      <td>...</td>\n",
              "      <td>...</td>\n",
              "      <td>...</td>\n",
              "      <td>...</td>\n",
              "      <td>...</td>\n",
              "      <td>...</td>\n",
              "      <td>...</td>\n",
              "      <td>...</td>\n",
              "      <td>...</td>\n",
              "      <td>...</td>\n",
              "      <td>...</td>\n",
              "      <td>...</td>\n",
              "      <td>...</td>\n",
              "      <td>...</td>\n",
              "      <td>...</td>\n",
              "    </tr>\n",
              "    <tr>\n",
              "      <th>4117</th>\n",
              "      <td>Psychedelic Rockpool</td>\n",
              "      <td>Psychedelic Rockpool</td>\n",
              "      <td>artxmike</td>\n",
              "      <td>artxmike_psychedelic-rockpool_psychedelic-rock...</td>\n",
              "      <td>25.0</td>\n",
              "      <td>SWAP.HIVE</td>\n",
              "      <td>PHOTO</td>\n",
              "      <td>2</td>\n",
              "      <td>False</td>\n",
              "      <td>5</td>\n",
              "      <td>2019</td>\n",
              "      <td>1</td>\n",
              "      <td>0</td>\n",
              "      <td>QmUEY6gNjQ3ufuVXW5kUR83DQW9y1EQ3a1UMfkgZ2cNNff</td>\n",
              "      <td>dataset/image/QmUEY6gNjQ3ufuVXW5kUR83DQW9y1EQ3...</td>\n",
              "    </tr>\n",
              "    <tr>\n",
              "      <th>4119</th>\n",
              "      <td>The Vixen</td>\n",
              "      <td>The Vixen</td>\n",
              "      <td>artxmike</td>\n",
              "      <td>artxmike_the-vixen_the-vixen</td>\n",
              "      <td>10.0</td>\n",
              "      <td>SWAP.HIVE</td>\n",
              "      <td>PHOTO</td>\n",
              "      <td>0</td>\n",
              "      <td>False</td>\n",
              "      <td>5</td>\n",
              "      <td>2020</td>\n",
              "      <td>1</td>\n",
              "      <td>0</td>\n",
              "      <td>QmQYVhQq4w5xRLLL6p8YbQDsxw3bnpz45hUUXYhRBjP3H4</td>\n",
              "      <td>dataset/image/QmQYVhQq4w5xRLLL6p8YbQDsxw3bnpz4...</td>\n",
              "    </tr>\n",
              "    <tr>\n",
              "      <th>4145</th>\n",
              "      <td>Transmogrification</td>\n",
              "      <td>Transmogrification1</td>\n",
              "      <td>artxmike</td>\n",
              "      <td>artxmike_transmogrification_transmogrification1</td>\n",
              "      <td>40.0</td>\n",
              "      <td>SWAP.HIVE</td>\n",
              "      <td>PHOTO</td>\n",
              "      <td>0</td>\n",
              "      <td>True</td>\n",
              "      <td>5</td>\n",
              "      <td>2019</td>\n",
              "      <td>1</td>\n",
              "      <td>0</td>\n",
              "      <td>QmQ9BRvwJyysQDuEqsGNEfcA7na93vYQakzXNimjpSmv29</td>\n",
              "      <td>dataset/image/QmQ9BRvwJyysQDuEqsGNEfcA7na93vYQ...</td>\n",
              "    </tr>\n",
              "    <tr>\n",
              "      <th>4162</th>\n",
              "      <td>Trash for Life (In the Haunted Honeycomb)</td>\n",
              "      <td>Only The Lonely... (So EXPENSIVE!) by RFY\"</td>\n",
              "      <td>richardfyates</td>\n",
              "      <td>richardfyates_trash-for-life-in-the-haunted-ho...</td>\n",
              "      <td>1013.0</td>\n",
              "      <td>SWAP.HIVE</td>\n",
              "      <td>PHOTO</td>\n",
              "      <td>0</td>\n",
              "      <td>False</td>\n",
              "      <td>1</td>\n",
              "      <td>2020</td>\n",
              "      <td>1</td>\n",
              "      <td>0</td>\n",
              "      <td>QmWB76TLLkmV2WJLHTs7P7zwzydmhU5UdutbqaUNUB6gYV</td>\n",
              "      <td>dataset/image/QmWB76TLLkmV2WJLHTs7P7zwzydmhU5U...</td>\n",
              "    </tr>\n",
              "    <tr>\n",
              "      <th>4188</th>\n",
              "      <td>fine arts -  high resolution printable artworks</td>\n",
              "      <td>Dirty laundry in the fractal kitchen</td>\n",
              "      <td>elgeko</td>\n",
              "      <td>elgeko_fine-arts-high-resolution-printable-art...</td>\n",
              "      <td>700.0</td>\n",
              "      <td>SWAP.HIVE</td>\n",
              "      <td>PHOTO</td>\n",
              "      <td>0</td>\n",
              "      <td>False</td>\n",
              "      <td>1</td>\n",
              "      <td>2020</td>\n",
              "      <td>1</td>\n",
              "      <td>0</td>\n",
              "      <td>QmNYLy1vRaRYoGRMVmheRgMxPAcrUufoUJHFSe81DmzNB9</td>\n",
              "      <td>dataset/image/QmNYLy1vRaRYoGRMVmheRgMxPAcrUufo...</td>\n",
              "    </tr>\n",
              "  </tbody>\n",
              "</table>\n",
              "<p>399 rows × 15 columns</p>\n",
              "</div>\n",
              "      <button class=\"colab-df-convert\" onclick=\"convertToInteractive('df-4d457777-6b71-481e-8540-4d326b425f1c')\"\n",
              "              title=\"Convert this dataframe to an interactive table.\"\n",
              "              style=\"display:none;\">\n",
              "        \n",
              "  <svg xmlns=\"http://www.w3.org/2000/svg\" height=\"24px\"viewBox=\"0 0 24 24\"\n",
              "       width=\"24px\">\n",
              "    <path d=\"M0 0h24v24H0V0z\" fill=\"none\"/>\n",
              "    <path d=\"M18.56 5.44l.94 2.06.94-2.06 2.06-.94-2.06-.94-.94-2.06-.94 2.06-2.06.94zm-11 1L8.5 8.5l.94-2.06 2.06-.94-2.06-.94L8.5 2.5l-.94 2.06-2.06.94zm10 10l.94 2.06.94-2.06 2.06-.94-2.06-.94-.94-2.06-.94 2.06-2.06.94z\"/><path d=\"M17.41 7.96l-1.37-1.37c-.4-.4-.92-.59-1.43-.59-.52 0-1.04.2-1.43.59L10.3 9.45l-7.72 7.72c-.78.78-.78 2.05 0 2.83L4 21.41c.39.39.9.59 1.41.59.51 0 1.02-.2 1.41-.59l7.78-7.78 2.81-2.81c.8-.78.8-2.07 0-2.86zM5.41 20L4 18.59l7.72-7.72 1.47 1.35L5.41 20z\"/>\n",
              "  </svg>\n",
              "      </button>\n",
              "      \n",
              "  <style>\n",
              "    .colab-df-container {\n",
              "      display:flex;\n",
              "      flex-wrap:wrap;\n",
              "      gap: 12px;\n",
              "    }\n",
              "\n",
              "    .colab-df-convert {\n",
              "      background-color: #E8F0FE;\n",
              "      border: none;\n",
              "      border-radius: 50%;\n",
              "      cursor: pointer;\n",
              "      display: none;\n",
              "      fill: #1967D2;\n",
              "      height: 32px;\n",
              "      padding: 0 0 0 0;\n",
              "      width: 32px;\n",
              "    }\n",
              "\n",
              "    .colab-df-convert:hover {\n",
              "      background-color: #E2EBFA;\n",
              "      box-shadow: 0px 1px 2px rgba(60, 64, 67, 0.3), 0px 1px 3px 1px rgba(60, 64, 67, 0.15);\n",
              "      fill: #174EA6;\n",
              "    }\n",
              "\n",
              "    [theme=dark] .colab-df-convert {\n",
              "      background-color: #3B4455;\n",
              "      fill: #D2E3FC;\n",
              "    }\n",
              "\n",
              "    [theme=dark] .colab-df-convert:hover {\n",
              "      background-color: #434B5C;\n",
              "      box-shadow: 0px 1px 3px 1px rgba(0, 0, 0, 0.15);\n",
              "      filter: drop-shadow(0px 1px 2px rgba(0, 0, 0, 0.3));\n",
              "      fill: #FFFFFF;\n",
              "    }\n",
              "  </style>\n",
              "\n",
              "      <script>\n",
              "        const buttonEl =\n",
              "          document.querySelector('#df-4d457777-6b71-481e-8540-4d326b425f1c button.colab-df-convert');\n",
              "        buttonEl.style.display =\n",
              "          google.colab.kernel.accessAllowed ? 'block' : 'none';\n",
              "\n",
              "        async function convertToInteractive(key) {\n",
              "          const element = document.querySelector('#df-4d457777-6b71-481e-8540-4d326b425f1c');\n",
              "          const dataTable =\n",
              "            await google.colab.kernel.invokeFunction('convertToInteractive',\n",
              "                                                     [key], {});\n",
              "          if (!dataTable) return;\n",
              "\n",
              "          const docLinkHtml = 'Like what you see? Visit the ' +\n",
              "            '<a target=\"_blank\" href=https://colab.research.google.com/notebooks/data_table.ipynb>data table notebook</a>'\n",
              "            + ' to learn more about interactive tables.';\n",
              "          element.innerHTML = '';\n",
              "          dataTable['output_type'] = 'display_data';\n",
              "          await google.colab.output.renderOutput(dataTable, element);\n",
              "          const docLink = document.createElement('div');\n",
              "          docLink.innerHTML = docLinkHtml;\n",
              "          element.appendChild(docLink);\n",
              "        }\n",
              "      </script>\n",
              "    </div>\n",
              "  </div>\n",
              "  "
            ]
          },
          "metadata": {},
          "execution_count": 58
        }
      ]
    },
    {
      "cell_type": "code",
      "source": [
        "%rm -f /dataset/gif"
      ],
      "metadata": {
        "id": "2LyUHygtHsqH"
      },
      "execution_count": 59,
      "outputs": []
    },
    {
      "cell_type": "code",
      "source": [
        "%pwd"
      ],
      "metadata": {
        "colab": {
          "base_uri": "https://localhost:8080/",
          "height": 36
        },
        "id": "boczC_KSH_ug",
        "outputId": "d128b0ab-4e74-42f8-d2b4-a1c5e237e29f"
      },
      "execution_count": 60,
      "outputs": [
        {
          "output_type": "execute_result",
          "data": {
            "text/plain": [
              "'/content/gdrive/MyDrive/DataSets/DA_NFT'"
            ],
            "application/vnd.google.colaboratory.intrinsic+json": {
              "type": "string"
            }
          },
          "metadata": {},
          "execution_count": 60
        }
      ]
    },
    {
      "cell_type": "code",
      "source": [
        "import os\n",
        "import numpy as np\n",
        "import shutil\n",
        "import random\n",
        "\n",
        "root_dir = '../classification/data/' # data root path\n",
        "classes_dir = ['good', 'bad'] #total labels\n",
        "\n",
        "val_ratio = 0.15\n",
        "test_ratio = 0.05\n",
        "\n",
        "for cls in top_artists_list:\n",
        "    os.makedirs(root_dir +'train/' + cls)\n",
        "    os.makedirs(root_dir +'val/' + cls)\n",
        "    os.makedirs(root_dir +'test/' + cls)\n",
        "\n",
        "\n",
        "# Creating partitions of the data after shuffeling\n",
        "src = root_dir + cls # Folder to copy images from\n",
        "\n",
        "allFileNames = os.listdir(src)\n",
        "np.random.shuffle(allFileNames)\n",
        "train_FileNames, val_FileNames, test_FileNames = np.split(np.array(allFileNames),\n",
        "                                                          [int(len(allFileNames)* (1 - (val_ratio + test_ratio))), \n",
        "                                                           int(len(allFileNames)* (1 - test_ratio))])\n",
        "\n",
        "\n",
        "train_FileNames = [src+'/'+ name for name in train_FileNames.tolist()]\n",
        "val_FileNames = [src+'/' + name for name in val_FileNames.tolist()]\n",
        "test_FileNames = [src+'/' + name for name in test_FileNames.tolist()]\n",
        "\n",
        "print('Total images: ', len(allFileNames))\n",
        "print('Training: ', len(train_FileNames))\n",
        "print('Validation: ', len(val_FileNames))\n",
        "print('Testing: ', len(test_FileNames))\n",
        "\n",
        "# Copy-pasting images\n",
        "for name in train_FileNames:\n",
        "    shutil.copy(name, root_dir +'train/' + cls)\n",
        "\n",
        "for name in val_FileNames:\n",
        "    shutil.copy(name, root_dir +'val/' + cls)\n",
        "\n",
        "for name in test_FileNames:\n",
        "    shutil.copy(name, root_dir +'test/' + cls)"
      ],
      "metadata": {
        "id": "Kubx6k76IEGV"
      },
      "execution_count": null,
      "outputs": []
    },
    {
      "cell_type": "code",
      "source": [
        "type(PHOTO_DATA['path'].values)"
      ],
      "metadata": {
        "colab": {
          "base_uri": "https://localhost:8080/"
        },
        "id": "SYn8vj3WIRGk",
        "outputId": "34ea16a2-d01c-48d0-a61e-460b70a3b2ea"
      },
      "execution_count": 65,
      "outputs": [
        {
          "output_type": "execute_result",
          "data": {
            "text/plain": [
              "numpy.ndarray"
            ]
          },
          "metadata": {},
          "execution_count": 65
        }
      ]
    },
    {
      "cell_type": "code",
      "source": [
        "for "
      ],
      "metadata": {
        "id": "atC8zUKVIVkx"
      },
      "execution_count": null,
      "outputs": []
    }
  ]
}